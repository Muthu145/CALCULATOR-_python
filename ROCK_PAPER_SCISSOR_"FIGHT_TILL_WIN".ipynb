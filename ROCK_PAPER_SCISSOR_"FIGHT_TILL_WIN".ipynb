{
  "nbformat": 4,
  "nbformat_minor": 0,
  "metadata": {
    "colab": {
      "provenance": [],
      "authorship_tag": "ABX9TyMN0tU6c6fSyTv8a8BTK2ER",
      "include_colab_link": true
    },
    "kernelspec": {
      "name": "python3",
      "display_name": "Python 3"
    },
    "language_info": {
      "name": "python"
    }
  },
  "cells": [
    {
      "cell_type": "markdown",
      "metadata": {
        "id": "view-in-github",
        "colab_type": "text"
      },
      "source": [
        "<a href=\"https://colab.research.google.com/github/Muthu145/CALCULATOR-_python/blob/main/ROCK_PAPER_SCISSOR_%22FIGHT_TILL_WIN%22.ipynb\" target=\"_parent\"><img src=\"https://colab.research.google.com/assets/colab-badge.svg\" alt=\"Open In Colab\"/></a>"
      ]
    },
    {
      "cell_type": "code",
      "execution_count": null,
      "metadata": {
        "colab": {
          "base_uri": "https://localhost:8080/"
        },
        "id": "hXaE4lrbazbo",
        "outputId": "4cf0c35f-a706-46d2-fe1a-b0ac507d55b2"
      },
      "outputs": [
        {
          "output_type": "stream",
          "name": "stdout",
          "text": [
            "Enter rock, paper, or scissors: paper\n",
            "Computer chose: paper\n",
            "It's a tie! Try again.\n",
            "\n",
            "Enter rock, paper, or scissors: rock\n",
            "Computer chose: paper\n",
            " You lose!\n"
          ]
        }
      ],
      "source": [
        "# ROCK PAPER SCISSORS GAME\n",
        "\n",
        "import random\n",
        "\n",
        "def rps():\n",
        "    choices = [\"rock\", \"paper\", \"scissors\"]\n",
        "    while True:\n",
        "        user = input(\"Enter rock, paper, or scissors: \").strip().lower()\n",
        "        if user not in choices:\n",
        "            print(\" Invalid choice. Please try again.\")\n",
        "            continue\n",
        "\n",
        "        comp = random.choice(choices)\n",
        "        print(f\"Computer chose: {comp}\")\n",
        "\n",
        "        if user == comp:\n",
        "            print(\"It's a tie! Try again.\\n\")\n",
        "            continue  # tie → repeat the loop\n",
        "        # Determine winner\n",
        "        if (user == \"rock\" and comp == \"scissors\") or \\\n",
        "           (user == \"paper\" and comp == \"rock\") or \\\n",
        "           (user == \"scissors\" and comp == \"paper\"):\n",
        "            print(\" You win!!!\")\n",
        "        else:\n",
        "            print(\" You lose!\")\n",
        "        break  # win or lose → exit loop\n",
        "\n",
        "if __name__ == \"__main__\":\n",
        "    rps()\n"
      ]
    }
  ]
}